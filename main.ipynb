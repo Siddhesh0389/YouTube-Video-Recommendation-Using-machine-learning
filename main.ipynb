{
 "cells": [
  {
   "cell_type": "markdown",
   "id": "c5954915",
   "metadata": {},
   "source": [
    "# Project Title: YouTube Performance Prediction AI Engine"
   ]
  },
  {
   "cell_type": "markdown",
   "id": "d3b30291",
   "metadata": {},
   "source": [
    "### Data Collection"
   ]
  },
  {
   "cell_type": "code",
   "execution_count": null,
   "id": "347391a3",
   "metadata": {},
   "outputs": [],
   "source": [
    "import yt_dlp\n",
    "import pandas as pd\n",
    "\n",
    "# ✅ Define 50 computer science topics\n",
    "topics = [\n",
    "    \"Machine Learning\", \"Deep Learning\", \"Artificial Intelligence\", \"Data Science\",\n",
    "    \"Computer Vision\", \"Natural Language Processing\", \"Big Data\", \"Cybersecurity\",\n",
    "    \"Cloud Computing\", \"Software Engineering\", \"Python Programming\", \"JavaScript Development\",\n",
    "    \"Blockchain Technology\", \"Data Structures and Algorithms\", \"Computer Networks\",\n",
    "    \"Internet of Things (IoT)\", \"Edge Computing\", \"Quantum Computing\",\n",
    "    \"Cryptography\", \"Computer Architecture\", \"Operating Systems\",\n",
    "    \"Database Management Systems\", \"Web Development\", \"API Development\",\n",
    "    \"Microservices Architecture\", \"Software Testing\", \"DevOps\",\n",
    "    \"Computer Graphics\", \"Embedded Systems\", \"Parallel Computing\",\n",
    "    \"Computer Vision in Healthcare\", \"AI in Finance\", \"Autonomous Vehicles\",\n",
    "    \"Robotics and Automation\", \"Natural Language Understanding\", \"AI Ethics\",\n",
    "    \"Big Data Analytics\", \"Augmented Reality\", \"Virtual Reality\",\n",
    "    \"Cloud Security\", \"Cyber Threat Intelligence\", \"Neural Networks\",\n",
    "    \"AI in Gaming\", \"Computer Simulation\", \"Speech Recognition\",\n",
    "    \"AI in Healthcare\", \"Digital Signal Processing\", \"Explainable AI\",\n",
    "    \"Predictive Analytics\", \"Software Project Management\", \"Compiler Design\"\n",
    "]\n",
    "\n",
    "# ✅ Number of videos per topic\n",
    "videos_per_topic = 10\n",
    "video_data = []\n",
    "\n",
    "# ✅ Extract video details using yt-dlp\n",
    "def extract_video_details(query):\n",
    "    ydl_opts = {\n",
    "        'quiet': True,\n",
    "        'extract_flat': False,  # Fetch full metadata, not just links\n",
    "        'skip_download': True,\n",
    "        'noplaylist': True,\n",
    "        'force_generic_extractor': False,  # Ensures metadata extraction\n",
    "    }\n",
    "    \n",
    "    with yt_dlp.YoutubeDL(ydl_opts) as ydl:\n",
    "        search_results = ydl.extract_info(f\"ytsearch{videos_per_topic}:{query}\", download=False)\n",
    "        \n",
    "        if 'entries' in search_results:\n",
    "            for video in search_results['entries']:\n",
    "                video_data.append({\n",
    "                    \"Title\": video.get(\"title\", \"N/A\"),\n",
    "                    \"Uploader\": video.get(\"uploader\", \"N/A\"),\n",
    "                    \"Views\": video.get(\"view_count\", 0),\n",
    "                    \"Likes\": video.get(\"like_count\", 0),\n",
    "                    \"Comments\": video.get(\"comment_count\", 0),\n",
    "                    \"Upload Date\": video.get(\"upload_date\", \"N/A\"),\n",
    "                    \"Duration (Seconds)\": video.get(\"duration\", 0),\n",
    "                    \"Duration (Minutes)\": round(video.get(\"duration\", 0) / 60, 2),\n",
    "                    \"Tags\": \", \".join(video.get(\"tags\", [])),\n",
    "                    \"URL\": video.get(\"webpage_url\", \"N/A\")\n",
    "                })\n",
    "\n",
    "# ✅ Scrape videos for each topic\n",
    "for topic in topics:\n",
    "    extract_video_details(topic)\n",
    "\n",
    "# ✅ Convert to DataFrame and Save as CSV\n",
    "df = pd.DataFrame(video_data)\n",
    "\n",
    "# ✅ Save to CSV file\n",
    "csv_filename = \"youtube_computer_science_500_entries.csv\"\n",
    "df.to_csv(csv_filename, index=False)\n",
    "\n",
    "print(f\"✅ Data scraping complete! File saved as {csv_filename}\")\n"
   ]
  },
  {
   "cell_type": "markdown",
   "id": "cebae4e3",
   "metadata": {},
   "source": [
    "### Data Preprocessing"
   ]
  },
  {
   "cell_type": "code",
   "execution_count": 1,
   "id": "cf58875e",
   "metadata": {},
   "outputs": [
    {
     "data": {
      "text/html": [
       "<div>\n",
       "<style scoped>\n",
       "    .dataframe tbody tr th:only-of-type {\n",
       "        vertical-align: middle;\n",
       "    }\n",
       "\n",
       "    .dataframe tbody tr th {\n",
       "        vertical-align: top;\n",
       "    }\n",
       "\n",
       "    .dataframe thead th {\n",
       "        text-align: right;\n",
       "    }\n",
       "</style>\n",
       "<table border=\"1\" class=\"dataframe\">\n",
       "  <thead>\n",
       "    <tr style=\"text-align: right;\">\n",
       "      <th></th>\n",
       "      <th>Title</th>\n",
       "      <th>Uploader</th>\n",
       "      <th>Views</th>\n",
       "      <th>Likes</th>\n",
       "      <th>Comments</th>\n",
       "      <th>Upload Date</th>\n",
       "      <th>Duration (Seconds)</th>\n",
       "      <th>Duration (Minutes)</th>\n",
       "      <th>Tags</th>\n",
       "      <th>URL</th>\n",
       "    </tr>\n",
       "  </thead>\n",
       "  <tbody>\n",
       "    <tr>\n",
       "      <th>0</th>\n",
       "      <td>Machine Learning for Everybody – Full Course</td>\n",
       "      <td>freeCodeCamp.org</td>\n",
       "      <td>8397276</td>\n",
       "      <td>83764</td>\n",
       "      <td>1800</td>\n",
       "      <td>26-09-2022</td>\n",
       "      <td>14033</td>\n",
       "      <td>233.88</td>\n",
       "      <td>NaN</td>\n",
       "      <td>https://www.youtube.com/watch?v=i_LwzRVP7bg</td>\n",
       "    </tr>\n",
       "    <tr>\n",
       "      <th>1</th>\n",
       "      <td>Complete Machine Learning In 6 Hours| Krish Naik</td>\n",
       "      <td>Krish Naik</td>\n",
       "      <td>1124367</td>\n",
       "      <td>19654</td>\n",
       "      <td>466</td>\n",
       "      <td>28-05-2022</td>\n",
       "      <td>23872</td>\n",
       "      <td>397.87</td>\n",
       "      <td>yt:cc=on, complete machine learning algorithms...</td>\n",
       "      <td>https://www.youtube.com/watch?v=JxgmHe2NyeY</td>\n",
       "    </tr>\n",
       "    <tr>\n",
       "      <th>2</th>\n",
       "      <td>Machine Learning Full Course - Learn Machine L...</td>\n",
       "      <td>edureka!</td>\n",
       "      <td>3336201</td>\n",
       "      <td>59006</td>\n",
       "      <td>1300</td>\n",
       "      <td>22-09-2019</td>\n",
       "      <td>34712</td>\n",
       "      <td>578.53</td>\n",
       "      <td>yt:cc=on, Machine Learning Full Course, machin...</td>\n",
       "      <td>https://www.youtube.com/watch?v=GwIo3gDZCVQ</td>\n",
       "    </tr>\n",
       "    <tr>\n",
       "      <th>3</th>\n",
       "      <td>All Machine Learning algorithms explained in 1...</td>\n",
       "      <td>Infinite Codes</td>\n",
       "      <td>661710</td>\n",
       "      <td>29703</td>\n",
       "      <td>242</td>\n",
       "      <td>17-09-2024</td>\n",
       "      <td>989</td>\n",
       "      <td>16.48</td>\n",
       "      <td>machine learning algorithms, machine learning,...</td>\n",
       "      <td>https://www.youtube.com/watch?v=E0Hmnixke2g</td>\n",
       "    </tr>\n",
       "    <tr>\n",
       "      <th>4</th>\n",
       "      <td>Complete ML Machine Learning in one shot | Sem...</td>\n",
       "      <td>KnowledgeGATE by Sanchit Sir</td>\n",
       "      <td>313207</td>\n",
       "      <td>5279</td>\n",
       "      <td>598</td>\n",
       "      <td>09-06-2024</td>\n",
       "      <td>25555</td>\n",
       "      <td>425.92</td>\n",
       "      <td>knowledgegate, knowledge gate, knowledge gate ...</td>\n",
       "      <td>https://www.youtube.com/watch?v=2oGsCHlfBUg</td>\n",
       "    </tr>\n",
       "  </tbody>\n",
       "</table>\n",
       "</div>"
      ],
      "text/plain": [
       "                                               Title  \\\n",
       "0       Machine Learning for Everybody – Full Course   \n",
       "1   Complete Machine Learning In 6 Hours| Krish Naik   \n",
       "2  Machine Learning Full Course - Learn Machine L...   \n",
       "3  All Machine Learning algorithms explained in 1...   \n",
       "4  Complete ML Machine Learning in one shot | Sem...   \n",
       "\n",
       "                       Uploader    Views  Likes  Comments Upload Date  \\\n",
       "0              freeCodeCamp.org  8397276  83764      1800  26-09-2022   \n",
       "1                    Krish Naik  1124367  19654       466  28-05-2022   \n",
       "2                      edureka!  3336201  59006      1300  22-09-2019   \n",
       "3                Infinite Codes   661710  29703       242  17-09-2024   \n",
       "4  KnowledgeGATE by Sanchit Sir   313207   5279       598  09-06-2024   \n",
       "\n",
       "   Duration (Seconds)  Duration (Minutes)  \\\n",
       "0               14033              233.88   \n",
       "1               23872              397.87   \n",
       "2               34712              578.53   \n",
       "3                 989               16.48   \n",
       "4               25555              425.92   \n",
       "\n",
       "                                                Tags  \\\n",
       "0                                                NaN   \n",
       "1  yt:cc=on, complete machine learning algorithms...   \n",
       "2  yt:cc=on, Machine Learning Full Course, machin...   \n",
       "3  machine learning algorithms, machine learning,...   \n",
       "4  knowledgegate, knowledge gate, knowledge gate ...   \n",
       "\n",
       "                                           URL  \n",
       "0  https://www.youtube.com/watch?v=i_LwzRVP7bg  \n",
       "1  https://www.youtube.com/watch?v=JxgmHe2NyeY  \n",
       "2  https://www.youtube.com/watch?v=GwIo3gDZCVQ  \n",
       "3  https://www.youtube.com/watch?v=E0Hmnixke2g  \n",
       "4  https://www.youtube.com/watch?v=2oGsCHlfBUg  "
      ]
     },
     "execution_count": 1,
     "metadata": {},
     "output_type": "execute_result"
    }
   ],
   "source": [
    "import pandas as pd\n",
    "\n",
    "df = pd.read_csv(\"youtube_data.csv\")\n",
    "\n",
    "df.head(5)"
   ]
  },
  {
   "cell_type": "code",
   "execution_count": 2,
   "id": "51b2fd33",
   "metadata": {},
   "outputs": [
    {
     "name": "stdout",
     "output_type": "stream",
     "text": [
      "Title                  0\n",
      "Uploader               0\n",
      "Views                  0\n",
      "Likes                  0\n",
      "Comments               0\n",
      "Upload Date            0\n",
      "Duration (Seconds)     0\n",
      "Duration (Minutes)     0\n",
      "Tags                  86\n",
      "URL                    0\n",
      "dtype: int64\n"
     ]
    }
   ],
   "source": [
    "print(df.isnull().sum())"
   ]
  },
  {
   "cell_type": "code",
   "execution_count": 3,
   "id": "3e549985",
   "metadata": {},
   "outputs": [],
   "source": [
    "import re\n",
    "\n",
    "def clean_text(text):\n",
    "    text = str(text).lower()\n",
    "    text = re.sub(r'[^\\w\\s]', '', text)\n",
    "    return text.strip()\n",
    "\n",
    "df['Title'] = df['Title'].apply(clean_text)\n",
    "df['Uploader'] = df['Uploader'].apply(clean_text)\n",
    "df['Tags'] = df['Tags'].apply(clean_text)"
   ]
  },
  {
   "cell_type": "code",
   "execution_count": 4,
   "id": "be98b0e5",
   "metadata": {},
   "outputs": [],
   "source": [
    "from langdetect import detect\n",
    "\n",
    "def is_english(text):\n",
    "    try:\n",
    "        return detect(text) == 'en'\n",
    "    except:\n",
    "        return False\n",
    "\n",
    "df = df[df['Title'].apply(is_english)]"
   ]
  },
  {
   "cell_type": "code",
   "execution_count": 5,
   "id": "36b27581",
   "metadata": {},
   "outputs": [
    {
     "name": "stderr",
     "output_type": "stream",
     "text": [
      "C:\\Users\\Siddhesh\\AppData\\Local\\Temp\\ipykernel_18556\\1671942195.py:1: UserWarning: Parsing dates in %d-%m-%Y format when dayfirst=False (the default) was specified. Pass `dayfirst=True` or specify a format to silence this warning.\n",
      "  df['Upload Date'] = pd.to_datetime(df['Upload Date'])\n"
     ]
    }
   ],
   "source": [
    "df['Upload Date'] = pd.to_datetime(df['Upload Date'])"
   ]
  },
  {
   "cell_type": "code",
   "execution_count": 6,
   "id": "49ca7222",
   "metadata": {},
   "outputs": [
    {
     "data": {
      "text/html": [
       "<div>\n",
       "<style scoped>\n",
       "    .dataframe tbody tr th:only-of-type {\n",
       "        vertical-align: middle;\n",
       "    }\n",
       "\n",
       "    .dataframe tbody tr th {\n",
       "        vertical-align: top;\n",
       "    }\n",
       "\n",
       "    .dataframe thead th {\n",
       "        text-align: right;\n",
       "    }\n",
       "</style>\n",
       "<table border=\"1\" class=\"dataframe\">\n",
       "  <thead>\n",
       "    <tr style=\"text-align: right;\">\n",
       "      <th></th>\n",
       "      <th>Views</th>\n",
       "      <th>Likes</th>\n",
       "      <th>Comments</th>\n",
       "    </tr>\n",
       "  </thead>\n",
       "  <tbody>\n",
       "    <tr>\n",
       "      <th>count</th>\n",
       "      <td>4.660000e+02</td>\n",
       "      <td>4.660000e+02</td>\n",
       "      <td>466.000000</td>\n",
       "    </tr>\n",
       "    <tr>\n",
       "      <th>mean</th>\n",
       "      <td>1.725824e+06</td>\n",
       "      <td>3.870673e+04</td>\n",
       "      <td>1160.087983</td>\n",
       "    </tr>\n",
       "    <tr>\n",
       "      <th>std</th>\n",
       "      <td>1.047674e+07</td>\n",
       "      <td>2.166007e+05</td>\n",
       "      <td>4658.135212</td>\n",
       "    </tr>\n",
       "    <tr>\n",
       "      <th>min</th>\n",
       "      <td>6.000000e+00</td>\n",
       "      <td>0.000000e+00</td>\n",
       "      <td>0.000000</td>\n",
       "    </tr>\n",
       "    <tr>\n",
       "      <th>25%</th>\n",
       "      <td>3.477625e+04</td>\n",
       "      <td>5.610000e+02</td>\n",
       "      <td>19.000000</td>\n",
       "    </tr>\n",
       "    <tr>\n",
       "      <th>50%</th>\n",
       "      <td>2.400600e+05</td>\n",
       "      <td>4.651000e+03</td>\n",
       "      <td>158.000000</td>\n",
       "    </tr>\n",
       "    <tr>\n",
       "      <th>75%</th>\n",
       "      <td>9.693438e+05</td>\n",
       "      <td>2.062725e+04</td>\n",
       "      <td>610.000000</td>\n",
       "    </tr>\n",
       "    <tr>\n",
       "      <th>max</th>\n",
       "      <td>1.900602e+08</td>\n",
       "      <td>4.079326e+06</td>\n",
       "      <td>59000.000000</td>\n",
       "    </tr>\n",
       "  </tbody>\n",
       "</table>\n",
       "</div>"
      ],
      "text/plain": [
       "              Views         Likes      Comments\n",
       "count  4.660000e+02  4.660000e+02    466.000000\n",
       "mean   1.725824e+06  3.870673e+04   1160.087983\n",
       "std    1.047674e+07  2.166007e+05   4658.135212\n",
       "min    6.000000e+00  0.000000e+00      0.000000\n",
       "25%    3.477625e+04  5.610000e+02     19.000000\n",
       "50%    2.400600e+05  4.651000e+03    158.000000\n",
       "75%    9.693438e+05  2.062725e+04    610.000000\n",
       "max    1.900602e+08  4.079326e+06  59000.000000"
      ]
     },
     "execution_count": 6,
     "metadata": {},
     "output_type": "execute_result"
    }
   ],
   "source": [
    "df[['Views', 'Likes', 'Comments']].describe()"
   ]
  },
  {
   "cell_type": "code",
   "execution_count": 7,
   "id": "1b170eef",
   "metadata": {},
   "outputs": [
    {
     "name": "stdout",
     "output_type": "stream",
     "text": [
      "Preprocessed data saved successfully!\n"
     ]
    }
   ],
   "source": [
    "# Save the cleaned data\n",
    "df.to_csv('preprocessed_youtube_data.csv', index=False)\n",
    "\n",
    "print(\"Preprocessed data saved successfully!\")\n"
   ]
  },
  {
   "cell_type": "markdown",
   "id": "6a4fcd85",
   "metadata": {},
   "source": [
    "### Feature Engineering"
   ]
  },
  {
   "cell_type": "code",
   "execution_count": 15,
   "id": "241769d4",
   "metadata": {},
   "outputs": [],
   "source": [
    "import pandas as pd\n",
    "from datetime import datetime\n",
    "import numpy as np\n",
    "import re\n",
    "\n",
    "# Load data\n",
    "df = pd.read_csv(\"preprocessed_youtube_data.csv\")\n",
    "\n",
    "# Safety replace to avoid divide-by-zero\n",
    "df['Views'] = df['Views'].replace(0, 1)\n",
    "\n",
    "# Step 1: Calculate Engagement = (Likes + Comments) / Views\n",
    "df['Engagement'] = (df['Likes'] + df['Comments']) / df['Views']\n",
    "\n",
    "# Step 2: Convert 'Upload Date' to datetime and calculate Days Since Upload\n",
    "df['Upload Date'] = pd.to_datetime(df['Upload Date'], errors='coerce')\n",
    "df['Days Since Upload'] = (datetime.now() - df['Upload Date']).dt.days\n",
    "df['Days Since Upload'] = df['Days Since Upload'].replace(0, 1)  # avoid division by zero\n",
    "\n",
    "# Step 3: Views Per Day\n",
    "df['Views Per Day'] = df['Views'] / df['Days Since Upload']"
   ]
  },
  {
   "cell_type": "code",
   "execution_count": 16,
   "id": "8dd90285",
   "metadata": {},
   "outputs": [],
   "source": [
    "# Refined list of categories (lowercase keywords for matching)\n",
    "category_keywords = {\n",
    "    \"machine learning\": \"Machine Learning\",\n",
    "    \"deep learning\": \"Deep Learning\",\n",
    "    \"artificial intelligence\": \"Artificial Intelligence\",\n",
    "    \"data science\": \"Data Science\",\n",
    "    \"computer vision\": \"Computer Vision\",\n",
    "    \"natural language processing\": \"Natural Language Processing\",\n",
    "    \"big data\": \"Big Data\",\n",
    "    \"cybersecurity\": \"Cybersecurity\",\n",
    "    \"cloud computing\": \"Cloud Computing\",\n",
    "    \"software engineering\": \"Software Engineering\",\n",
    "    \"python\": \"Python Programming\",\n",
    "    \"javascript\": \"JavaScript Development\",\n",
    "    \"blockchain\": \"Blockchain Technology\",\n",
    "    \"data structures\": \"Data Structures and Algorithms\",\n",
    "    \"algorithms\": \"Data Structures and Algorithms\",\n",
    "    \"computer networks\": \"Computer Networks\",\n",
    "    \"iot\": \"Internet of Things (IoT)\",\n",
    "    \"edge computing\": \"Edge Computing\",\n",
    "    \"quantum computing\": \"Quantum Computing\",\n",
    "    \"cryptography\": \"Cryptography\",\n",
    "    \"computer architecture\": \"Computer Architecture\",\n",
    "    \"operating systems\": \"Operating Systems\",\n",
    "    \"dbms\": \"Database Management Systems\",\n",
    "    \"database\": \"Database Management Systems\",\n",
    "    \"web development\": \"Web Development\",\n",
    "    \"api development\": \"API Development\",\n",
    "    \"microservices\": \"Microservices Architecture\",\n",
    "    \"software testing\": \"Software Testing\",\n",
    "    \"devops\": \"DevOps\",\n",
    "    \"computer graphics\": \"Computer Graphics\",\n",
    "    \"embedded systems\": \"Embedded Systems\",\n",
    "    \"parallel computing\": \"Parallel Computing\",\n",
    "    \"healthcare\": \"AI in Healthcare\",\n",
    "    \"ai in finance\": \"AI in Finance\",\n",
    "    \"autonomous vehicles\": \"Autonomous Vehicles\",\n",
    "    \"robotics\": \"Robotics and Automation\",\n",
    "    \"nlu\": \"Natural Language Understanding\",\n",
    "    \"ai ethics\": \"AI Ethics\",\n",
    "    \"big data analytics\": \"Big Data Analytics\",\n",
    "    \"augmented reality\": \"Augmented Reality\",\n",
    "    \"virtual reality\": \"Virtual Reality\",\n",
    "    \"cloud security\": \"Cloud Security\",\n",
    "    \"cyber threat\": \"Cyber Threat Intelligence\",\n",
    "    \"neural networks\": \"Neural Networks\",\n",
    "    \"gaming\": \"AI in Gaming\",\n",
    "    \"computer simulation\": \"Computer Simulation\",\n",
    "    \"speech recognition\": \"Speech Recognition\",\n",
    "    \"dsp\": \"Digital Signal Processing\",\n",
    "    \"explainable ai\": \"Explainable AI\",\n",
    "    \"predictive analytics\": \"Predictive Analytics\",\n",
    "    \"project management\": \"Software Project Management\",\n",
    "    \"compiler\": \"Compiler Design\"\n",
    "}\n",
    "\n",
    "# Function to extract main category from title\n",
    "def extract_main_category(title):\n",
    "    title = str(title).lower()\n",
    "    for keyword, category in category_keywords.items():\n",
    "        if keyword in title:\n",
    "            return category\n",
    "    return \"Other\"\n",
    "\n",
    "# Apply to dataframe\n",
    "df['Main Category'] = df['Title'].apply(extract_main_category)\n"
   ]
  },
  {
   "cell_type": "code",
   "execution_count": 17,
   "id": "db84a793",
   "metadata": {},
   "outputs": [
    {
     "name": "stdout",
     "output_type": "stream",
     "text": [
      "✅ Feature engineered data saved successfully!\n"
     ]
    }
   ],
   "source": [
    "df.to_csv(\"feature_engineered_youtube_data.csv\", index=False)\n",
    "print(\"✅ Feature engineered data saved successfully!\")"
   ]
  },
  {
   "cell_type": "code",
   "execution_count": 18,
   "id": "6851ade9",
   "metadata": {},
   "outputs": [
    {
     "name": "stdout",
     "output_type": "stream",
     "text": [
      "✅ Columns 'Duration (Seconds)' and 'Tags' have been removed and changes saved.\n"
     ]
    }
   ],
   "source": [
    "import pandas as pd\n",
    "\n",
    "# Load the feature-engineered dataset\n",
    "df = pd.read_csv(\"feature_engineered_youtube_data.csv\")\n",
    "\n",
    "# Drop the unwanted columns\n",
    "df.drop(['Duration (Seconds)'],  axis=1, inplace=True)\n",
    "df.drop(['Tags'],  axis=1, inplace=True)\n",
    "# Save the updated dataset\n",
    "df.to_csv(\"feature_engineered_youtube_data.csv\", index=False)\n",
    "\n",
    "print(\"✅ Columns 'Duration (Seconds)' and 'Tags' have been removed and changes saved.\")"
   ]
  },
  {
   "cell_type": "markdown",
   "id": "4f708f33",
   "metadata": {},
   "source": [
    "### EDA"
   ]
  },
  {
   "cell_type": "code",
   "execution_count": 22,
   "id": "e2002768",
   "metadata": {},
   "outputs": [
    {
     "name": "stderr",
     "output_type": "stream",
     "text": [
      "C:\\Users\\Siddhesh\\AppData\\Local\\Temp\\ipykernel_18556\\282650393.py:20: UserWarning: Glyph 128202 (\\N{BAR CHART}) missing from font(s) DejaVu Sans.\n",
      "  plt.tight_layout()\n",
      "c:\\Users\\Siddhesh\\OneDrive\\Desktop\\YouTube_Prg\\venv_name\\Lib\\site-packages\\IPython\\core\\pylabtools.py:170: UserWarning: Glyph 128202 (\\N{BAR CHART}) missing from font(s) DejaVu Sans.\n",
      "  fig.canvas.print_figure(bytes_io, **kw)\n"
     ]
    },
    {
     "data": {
      "image/png": "[encoded data removed]",
      "text/plain": [
       "<Figure size 1400x700 with 1 Axes>"
      ]
     },
     "metadata": {},
     "output_type": "display_data"
    }
   ],
   "source": [
    "import pandas as pd\n",
    "import matplotlib.pyplot as plt\n",
    "\n",
    "# Step 1: Count total videos per uploader and get top 15\n",
    "top_uploaders = df['Uploader'].value_counts().head(15).index\n",
    "\n",
    "# Step 2: Filter dataframe to include only top 15 uploaders\n",
    "df_top = df[df['Uploader'].isin(top_uploaders)]\n",
    "\n",
    "# Step 3: Group by Uploader and Main Category\n",
    "category_by_channel = df_top.groupby(['Uploader', 'Main Category']).size().unstack(fill_value=0)\n",
    "\n",
    "# Step 4: Plot stacked bar chart\n",
    "category_by_channel.plot(kind='bar', stacked=True, figsize=(14, 7), colormap='tab20')\n",
    "plt.title(\"📊 Top 15 YouTube Channels: Distribution of Main Categories\")\n",
    "plt.xlabel(\"Uploader (Channel Name)\")\n",
    "plt.ylabel(\"Number of Videos\")\n",
    "plt.xticks(rotation=45, ha='right')\n",
    "plt.legend(title=\"Main Category\", bbox_to_anchor=(1.05, 1), loc='upper left')\n",
    "plt.tight_layout()\n",
    "plt.show()\n"
   ]
  },
  {
   "cell_type": "markdown",
   "id": "09d8f627",
   "metadata": {},
   "source": [
    "### Model Building & Training"
   ]
  },
  {
   "cell_type": "code",
   "execution_count": 57,
   "id": "11748fd1",
   "metadata": {},
   "outputs": [],
   "source": [
    "import pandas as pd\n",
    "import numpy as np\n",
    "from sklearn.model_selection import train_test_split\n",
    "from sklearn.ensemble import RandomForestClassifier\n",
    "from sklearn.linear_model import LogisticRegression\n",
    "from sklearn.svm import SVC\n",
    "from sklearn.metrics import classification_report, confusion_matrix\n",
    "from sklearn.preprocessing import LabelEncoder, StandardScaler"
   ]
  },
  {
   "cell_type": "code",
   "execution_count": 58,
   "id": "bff6789b",
   "metadata": {},
   "outputs": [
    {
     "data": {
      "text/html": [
       "<div>\n",
       "<style scoped>\n",
       "    .dataframe tbody tr th:only-of-type {\n",
       "        vertical-align: middle;\n",
       "    }\n",
       "\n",
       "    .dataframe tbody tr th {\n",
       "        vertical-align: top;\n",
       "    }\n",
       "\n",
       "    .dataframe thead th {\n",
       "        text-align: right;\n",
       "    }\n",
       "</style>\n",
       "<table border=\"1\" class=\"dataframe\">\n",
       "  <thead>\n",
       "    <tr style=\"text-align: right;\">\n",
       "      <th></th>\n",
       "      <th>Title</th>\n",
       "      <th>Uploader</th>\n",
       "      <th>Views</th>\n",
       "      <th>Likes</th>\n",
       "      <th>Comments</th>\n",
       "      <th>Upload Date</th>\n",
       "      <th>Duration (Minutes)</th>\n",
       "      <th>URL</th>\n",
       "      <th>Engagement</th>\n",
       "      <th>Days Since Upload</th>\n",
       "      <th>Views Per Day</th>\n",
       "      <th>Main Category</th>\n",
       "    </tr>\n",
       "  </thead>\n",
       "  <tbody>\n",
       "    <tr>\n",
       "      <th>0</th>\n",
       "      <td>machine learning for everybody  full course</td>\n",
       "      <td>freecodecamporg</td>\n",
       "      <td>8397276</td>\n",
       "      <td>83764</td>\n",
       "      <td>1800</td>\n",
       "      <td>2022-09-26</td>\n",
       "      <td>233.88</td>\n",
       "      <td>https://www.youtube.com/watch?v=i_LwzRVP7bg</td>\n",
       "      <td>0.010189</td>\n",
       "      <td>937</td>\n",
       "      <td>8961.874066</td>\n",
       "      <td>Machine Learning</td>\n",
       "    </tr>\n",
       "    <tr>\n",
       "      <th>1</th>\n",
       "      <td>complete machine learning in 6 hours krish naik</td>\n",
       "      <td>krish naik</td>\n",
       "      <td>1124367</td>\n",
       "      <td>19654</td>\n",
       "      <td>466</td>\n",
       "      <td>2022-05-28</td>\n",
       "      <td>397.87</td>\n",
       "      <td>https://www.youtube.com/watch?v=JxgmHe2NyeY</td>\n",
       "      <td>0.017895</td>\n",
       "      <td>1058</td>\n",
       "      <td>1062.728733</td>\n",
       "      <td>Machine Learning</td>\n",
       "    </tr>\n",
       "    <tr>\n",
       "      <th>2</th>\n",
       "      <td>machine learning full course  learn machine le...</td>\n",
       "      <td>edureka</td>\n",
       "      <td>3336201</td>\n",
       "      <td>59006</td>\n",
       "      <td>1300</td>\n",
       "      <td>2019-09-22</td>\n",
       "      <td>578.53</td>\n",
       "      <td>https://www.youtube.com/watch?v=GwIo3gDZCVQ</td>\n",
       "      <td>0.018076</td>\n",
       "      <td>2037</td>\n",
       "      <td>1637.801178</td>\n",
       "      <td>Machine Learning</td>\n",
       "    </tr>\n",
       "    <tr>\n",
       "      <th>3</th>\n",
       "      <td>all machine learning algorithms explained in 1...</td>\n",
       "      <td>infinite codes</td>\n",
       "      <td>661710</td>\n",
       "      <td>29703</td>\n",
       "      <td>242</td>\n",
       "      <td>2024-09-17</td>\n",
       "      <td>16.48</td>\n",
       "      <td>https://www.youtube.com/watch?v=E0Hmnixke2g</td>\n",
       "      <td>0.045254</td>\n",
       "      <td>215</td>\n",
       "      <td>3077.720930</td>\n",
       "      <td>Machine Learning</td>\n",
       "    </tr>\n",
       "    <tr>\n",
       "      <th>4</th>\n",
       "      <td>complete ml machine learning in one shot  seme...</td>\n",
       "      <td>knowledgegate by sanchit sir</td>\n",
       "      <td>313207</td>\n",
       "      <td>5279</td>\n",
       "      <td>598</td>\n",
       "      <td>2024-06-09</td>\n",
       "      <td>425.92</td>\n",
       "      <td>https://www.youtube.com/watch?v=2oGsCHlfBUg</td>\n",
       "      <td>0.018764</td>\n",
       "      <td>315</td>\n",
       "      <td>994.307937</td>\n",
       "      <td>Machine Learning</td>\n",
       "    </tr>\n",
       "  </tbody>\n",
       "</table>\n",
       "</div>"
      ],
      "text/plain": [
       "                                               Title  \\\n",
       "0        machine learning for everybody  full course   \n",
       "1    complete machine learning in 6 hours krish naik   \n",
       "2  machine learning full course  learn machine le...   \n",
       "3  all machine learning algorithms explained in 1...   \n",
       "4  complete ml machine learning in one shot  seme...   \n",
       "\n",
       "                       Uploader    Views  Likes  Comments Upload Date  \\\n",
       "0               freecodecamporg  8397276  83764      1800  2022-09-26   \n",
       "1                    krish naik  1124367  19654       466  2022-05-28   \n",
       "2                       edureka  3336201  59006      1300  2019-09-22   \n",
       "3                infinite codes   661710  29703       242  2024-09-17   \n",
       "4  knowledgegate by sanchit sir   313207   5279       598  2024-06-09   \n",
       "\n",
       "   Duration (Minutes)                                          URL  \\\n",
       "0              233.88  https://www.youtube.com/watch?v=i_LwzRVP7bg   \n",
       "1              397.87  https://www.youtube.com/watch?v=JxgmHe2NyeY   \n",
       "2              578.53  https://www.youtube.com/watch?v=GwIo3gDZCVQ   \n",
       "3               16.48  https://www.youtube.com/watch?v=E0Hmnixke2g   \n",
       "4              425.92  https://www.youtube.com/watch?v=2oGsCHlfBUg   \n",
       "\n",
       "   Engagement  Days Since Upload  Views Per Day     Main Category  \n",
       "0    0.010189                937    8961.874066  Machine Learning  \n",
       "1    0.017895               1058    1062.728733  Machine Learning  \n",
       "2    0.018076               2037    1637.801178  Machine Learning  \n",
       "3    0.045254                215    3077.720930  Machine Learning  \n",
       "4    0.018764                315     994.307937  Machine Learning  "
      ]
     },
     "execution_count": 58,
     "metadata": {},
     "output_type": "execute_result"
    }
   ],
   "source": [
    "df = pd.read_csv('final_dataset.csv')\n",
    "df.head(5)"
   ]
  },
  {
   "cell_type": "code",
   "execution_count": 70,
   "id": "b11f0665",
   "metadata": {},
   "outputs": [],
   "source": [
    "def classify_performance(row):\n",
    "    if row < 1000:\n",
    "        return 'Low'\n",
    "    elif 1000 <= row < 5000:\n",
    "        return 'Medium'\n",
    "    else:\n",
    "        return 'High'\n",
    "\n",
    "# Create label column\n",
    "df['Performance'] = df['Views Per Day'].apply(classify_performance)\n",
    "\n",
    "df.to_csv(\"final_dataset.csv\", index=False)"
   ]
  },
  {
   "cell_type": "code",
   "execution_count": 60,
   "id": "bc336696",
   "metadata": {},
   "outputs": [],
   "source": [
    "label_encoders = {}\n",
    "\n",
    "for col in ['Uploader', 'Main Category']:\n",
    "    le = LabelEncoder()\n",
    "    df[col] = le.fit_transform(df[col])\n",
    "    label_encoders[col] = le"
   ]
  },
  {
   "cell_type": "code",
   "execution_count": 61,
   "id": "43c317c3",
   "metadata": {},
   "outputs": [],
   "source": [
    "X = df[['Uploader', 'Likes', 'Comments', 'Duration (Minutes)', 'Engagement', 'Days Since Upload', 'Main Category']]\n",
    "y = df['Performance']"
   ]
  },
  {
   "cell_type": "code",
   "execution_count": 62,
   "id": "b70802cc",
   "metadata": {},
   "outputs": [],
   "source": [
    "X_train, X_test, y_train, y_test = train_test_split(X, y, test_size=0.2, random_state=42)"
   ]
  },
  {
   "cell_type": "code",
   "execution_count": 63,
   "id": "7acd61ba",
   "metadata": {},
   "outputs": [],
   "source": [
    "scaler = StandardScaler()\n",
    "X_train_scaled = scaler.fit_transform(X_train)\n",
    "X_test_scaled = scaler.transform(X_test)"
   ]
  },
  {
   "cell_type": "code",
   "execution_count": 39,
   "id": "0536cdeb",
   "metadata": {},
   "outputs": [
    {
     "name": "stdout",
     "output_type": "stream",
     "text": [
      "\n",
      "Logistic Regression Report:\n",
      "\n",
      "              precision    recall  f1-score   support\n",
      "\n",
      "        High       1.00      0.33      0.50         6\n",
      "         Low       0.89      1.00      0.94        73\n",
      "      Medium       0.70      0.47      0.56        15\n",
      "\n",
      "    accuracy                           0.87        94\n",
      "   macro avg       0.86      0.60      0.67        94\n",
      "weighted avg       0.87      0.87      0.85        94\n",
      "\n"
     ]
    }
   ],
   "source": [
    "logreg = LogisticRegression(max_iter=1000)\n",
    "logreg.fit(X_train_scaled, y_train)\n",
    "y_pred_lr = logreg.predict(X_test_scaled)\n",
    "print(\"\\nLogistic Regression Report:\\n\")\n",
    "print(classification_report(y_test, y_pred_lr))"
   ]
  },
  {
   "cell_type": "code",
   "execution_count": 64,
   "id": "51201cde",
   "metadata": {},
   "outputs": [
    {
     "name": "stdout",
     "output_type": "stream",
     "text": [
      "\n",
      "Random Forest Report:\n",
      "\n",
      "              precision    recall  f1-score   support\n",
      "\n",
      "        High       1.00      0.33      0.50         6\n",
      "         Low       0.96      1.00      0.98        73\n",
      "      Medium       0.75      0.80      0.77        15\n",
      "\n",
      "    accuracy                           0.93        94\n",
      "   macro avg       0.90      0.71      0.75        94\n",
      "weighted avg       0.93      0.93      0.92        94\n",
      "\n"
     ]
    }
   ],
   "source": [
    "rf = RandomForestClassifier(n_estimators=100, random_state=42)\n",
    "rf.fit(X_train, y_train)\n",
    "y_pred_rf = rf.predict(X_test)\n",
    "print(\"\\nRandom Forest Report:\\n\")\n",
    "print(classification_report(y_test, y_pred_rf))"
   ]
  },
  {
   "cell_type": "code",
   "execution_count": 65,
   "id": "2cf18c18",
   "metadata": {},
   "outputs": [
    {
     "name": "stdout",
     "output_type": "stream",
     "text": [
      "\n",
      "SVM Report:\n",
      "\n",
      "              precision    recall  f1-score   support\n",
      "\n",
      "        High       1.00      0.17      0.29         6\n",
      "         Low       0.84      1.00      0.91        73\n",
      "      Medium       0.50      0.20      0.29        15\n",
      "\n",
      "    accuracy                           0.82        94\n",
      "   macro avg       0.78      0.46      0.49        94\n",
      "weighted avg       0.80      0.82      0.77        94\n",
      "\n"
     ]
    }
   ],
   "source": [
    "svm = SVC()\n",
    "svm.fit(X_train_scaled, y_train)\n",
    "y_pred_svm = svm.predict(X_test_scaled)\n",
    "print(\"\\nSVM Report:\\n\")\n",
    "print(classification_report(y_test, y_pred_svm))"
   ]
  },
  {
   "cell_type": "code",
   "execution_count": 66,
   "id": "af20b932",
   "metadata": {},
   "outputs": [
    {
     "name": "stdout",
     "output_type": "stream",
     "text": [
      "Random Forest Accuracy: 0.8936\n",
      "Logistic Regression Accuracy: 0.8830\n",
      "SVM Accuracy: 0.8191\n",
      "\n",
      "Selected Best Model: Random Forest with Accuracy: 0.8936\n",
      "              precision    recall  f1-score   support\n",
      "\n",
      "        High       1.00      0.81      0.89        21\n",
      "         Low       0.91      0.91      0.91        33\n",
      "      Medium       0.84      0.93      0.88        40\n",
      "\n",
      "    accuracy                           0.89        94\n",
      "   macro avg       0.92      0.88      0.89        94\n",
      "weighted avg       0.90      0.89      0.89        94\n",
      "\n"
     ]
    },
    {
     "name": "stderr",
     "output_type": "stream",
     "text": [
      "c:\\Users\\Siddhesh\\OneDrive\\Desktop\\YouTube_Prg\\venv_name\\Lib\\site-packages\\sklearn\\linear_model\\_logistic.py:465: ConvergenceWarning: lbfgs failed to converge (status=1):\n",
      "STOP: TOTAL NO. OF ITERATIONS REACHED LIMIT.\n",
      "\n",
      "Increase the number of iterations (max_iter) or scale the data as shown in:\n",
      "    https://scikit-learn.org/stable/modules/preprocessing.html\n",
      "Please also refer to the documentation for alternative solver options:\n",
      "    https://scikit-learn.org/stable/modules/linear_model.html#logistic-regression\n",
      "  n_iter_i = _check_optimize_result(\n"
     ]
    },
    {
     "data": {
      "text/plain": [
       "['best_video_classifier_model.pkl']"
      ]
     },
     "execution_count": 66,
     "metadata": {},
     "output_type": "execute_result"
    }
   ],
   "source": [
    "from sklearn.ensemble import RandomForestClassifier\n",
    "from sklearn.linear_model import LogisticRegression\n",
    "from sklearn.svm import SVC\n",
    "from sklearn.model_selection import train_test_split\n",
    "from sklearn.metrics import accuracy_score, classification_report\n",
    "import pandas as pd\n",
    "\n",
    "# Load the data\n",
    "df = pd.read_csv(\"final_dataset.csv\")\n",
    "\n",
    "# Define performance class\n",
    "bins = [0, 100, 1000, float('inf')]\n",
    "labels = ['Low', 'Medium', 'High']\n",
    "df['Performance Class'] = pd.cut(df['Views Per Day'], bins=bins, labels=labels)\n",
    "\n",
    "# Encode categorical columns\n",
    "df_encoded = pd.get_dummies(df[['Main Category', 'Uploader']], drop_first=True)\n",
    "\n",
    "# Combine encoded with numerical features\n",
    "features = pd.concat([\n",
    "    df[['Likes', 'Comments', 'Engagement', 'Duration (Minutes)', 'Days Since Upload']],\n",
    "    df_encoded\n",
    "], axis=1)\n",
    "target = df['Performance Class']\n",
    "\n",
    "# Train/test split\n",
    "X_train, X_test, y_train, y_test = train_test_split(features, target, test_size=0.2, random_state=42)\n",
    "\n",
    "# Define models\n",
    "rf_model = RandomForestClassifier(random_state=42)\n",
    "log_model = LogisticRegression(max_iter=1000)\n",
    "svm_model = SVC()\n",
    "\n",
    "# Fit and evaluate\n",
    "models = {\n",
    "    \"Random Forest\": rf_model,\n",
    "    \"Logistic Regression\": log_model,\n",
    "    \"SVM\": svm_model\n",
    "}\n",
    "\n",
    "best_model = None\n",
    "best_accuracy = 0\n",
    "for name, model in models.items():\n",
    "    model.fit(X_train, y_train)\n",
    "    predictions = model.predict(X_test)\n",
    "    accuracy = accuracy_score(y_test, predictions)\n",
    "    print(f\"{name} Accuracy: {accuracy:.4f}\")\n",
    "    if accuracy > best_accuracy:\n",
    "        best_model = model\n",
    "        best_model_name = name\n",
    "        best_accuracy = accuracy\n",
    "\n",
    "print(f\"\\nSelected Best Model: {best_model_name} with Accuracy: {best_accuracy:.4f}\")\n",
    "print(classification_report(y_test, best_model.predict(X_test)))\n",
    "\n",
    "# Save best model\n",
    "import joblib\n",
    "joblib.dump(best_model, 'best_video_classifier_model.pkl')"
   ]
  },
  {
   "cell_type": "markdown",
   "id": "1cd2d607",
   "metadata": {},
   "source": [
    "### Prediction calculation"
   ]
  },
  {
   "cell_type": "code",
   "execution_count": 79,
   "id": "b874ab6a",
   "metadata": {},
   "outputs": [],
   "source": [
    "import pandas as pd\n",
    "from sklearn.preprocessing import MinMaxScaler\n",
    "\n",
    "def calculate_performance_score(video_row, scaler, weights):\n",
    "    scaled = scaler.transform([[video_row['Likes'], video_row['Views'], video_row['Views Per Day']]])[0]\n",
    "    normalized_likes, normalized_views, normalized_vpd = scaled\n",
    "\n",
    "    score = (weights['likes'] * normalized_likes +\n",
    "             weights['views'] * normalized_views +\n",
    "             weights['vpd'] * normalized_vpd) * 100\n",
    "    return round(score, 2)\n",
    "\n",
    "def recommend_videos_with_score(data, keyword, top_n=5):\n",
    "    keyword = keyword.lower()\n",
    "\n",
    "    filtered = data[data['Title'].str.lower().str.contains(keyword) | \n",
    "                    data['Main Category'].str.lower().str.contains(keyword)].copy()\n",
    "\n",
    "    if filtered.empty:\n",
    "        return \"No videos found for the keyword.\"\n",
    "\n",
    "    performance_order = {\"High\": 3, \"Medium\": 2, \"Low\": 1}\n",
    "    filtered['Performance Rank'] = filtered['Predicted Performance'].map(performance_order)\n",
    "\n",
    "    recommended = filtered.sort_values(by='Performance Rank', ascending=False).head(top_n).copy()\n",
    "\n",
    "    scaler = MinMaxScaler()\n",
    "    scaler.fit(data[['Likes', 'Views', 'Views Per Day']])\n",
    "\n",
    "    weights = {'likes': 0.25, 'views': 0.55, 'vpd': 0.2}\n",
    "    top_video = recommended.iloc[0]\n",
    "    score = calculate_performance_score(top_video, scaler, weights)\n",
    "    recommended.iloc[0, recommended.columns.get_loc('Title')] += f\" (Performance Score: {score}%)\"\n",
    "\n",
    "    return recommended[['Title', 'Uploader', 'Views', 'Likes', 'Views Per Day', 'Duration (Minutes)', 'Main Category', 'Predicted Performance', 'URL']]\n"
   ]
  },
  {
   "cell_type": "code",
   "execution_count": null,
   "id": "c7bb0af4",
   "metadata": {},
   "outputs": [],
   "source": []
  }
 ],
 "metadata": {
  "kernelspec": {
   "display_name": "venv_name",
   "language": "python",
   "name": "python3"
  },
  "language_info": {
   "codemirror_mode": {
    "name": "ipython",
    "version": 3
   },
   "file_extension": ".py",
   "mimetype": "text/x-python",
   "name": "python",
   "nbconvert_exporter": "python",
   "pygments_lexer": "ipython3",
   "version": "3.12.4"
  }
 },
 "nbformat": 4,
 "nbformat_minor": 5
}
